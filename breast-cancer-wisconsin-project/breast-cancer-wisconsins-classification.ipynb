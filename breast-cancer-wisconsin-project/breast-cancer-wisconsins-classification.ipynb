{
 "cells": [
  {
   "cell_type": "markdown",
   "id": "b45b5e6c",
   "metadata": {},
   "source": [
    "* Create a new conda project\n",
    "* Create an environment for it using miniconda terminal\n",
    "    + conda create --prefix ./.env pandas numpy matplotlib jupyter scikit-learn\n",
    "* Download the dataset from Kaggle\n",
    "* Import the packages from our env to check everything is OK"
   ]
  },
  {
   "cell_type": "code",
   "execution_count": 2,
   "id": "94626095",
   "metadata": {},
   "outputs": [
    {
     "name": "stdout",
     "output_type": "stream",
     "text": [
      "On branch main\n",
      "Your branch is up to date with 'origin/main'.\n",
      "\n",
      "Untracked files:\n",
      "  (use \"git add <file>...\" to include in what will be committed)\n",
      "\t./\n",
      "\t../docs/neural_networks/Dog Breed Identification - Kaggle.url\n",
      "\t../docs/neural_networks/TensorFlow with GPU - Colaboratory.url\n",
      "\t../docs/neural_networks/tensor-flow.png\n",
      "\n",
      "nothing added to commit but untracked files present (use \"git add\" to track)\n"
     ]
    }
   ],
   "source": [
    "!git status"
   ]
  },
  {
   "cell_type": "code",
   "execution_count": null,
   "id": "529cff45",
   "metadata": {},
   "outputs": [],
   "source": []
  }
 ],
 "metadata": {
  "kernelspec": {
   "display_name": "Python 3 (ipykernel)",
   "language": "python",
   "name": "python3"
  },
  "language_info": {
   "codemirror_mode": {
    "name": "ipython",
    "version": 3
   },
   "file_extension": ".py",
   "mimetype": "text/x-python",
   "name": "python",
   "nbconvert_exporter": "python",
   "pygments_lexer": "ipython3",
   "version": "3.11.2"
  }
 },
 "nbformat": 4,
 "nbformat_minor": 5
}
