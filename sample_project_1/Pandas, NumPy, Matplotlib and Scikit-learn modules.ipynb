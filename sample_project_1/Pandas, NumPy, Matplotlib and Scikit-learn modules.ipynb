{
 "cells": [
  {
   "cell_type": "markdown",
   "id": "399a679b",
   "metadata": {},
   "source": [
    "This cell does a simple list w/ the even numbers between 0 and 99"
   ]
  },
  {
   "cell_type": "code",
   "execution_count": 11,
   "id": "5487631c",
   "metadata": {},
   "outputs": [],
   "source": [
    "my_list = [item for item in range(0,100) if item % 2 == 0]"
   ]
  },
  {
   "cell_type": "code",
   "execution_count": 19,
   "id": "ac370f4b",
   "metadata": {},
   "outputs": [
    {
     "name": "stdout",
     "output_type": "stream",
     "text": [
      "[0, 2, 4, 6, 8, 10, 12, 14, 16, 18, 20, 22, 24, 26, 28, 30, 32, 34, 36, 38, 40, 42, 44, 46, 48, 50, 52, 54, 56, 58, 60, 62, 64, 66, 68, 70, 72, 74, 76, 78, 80, 82, 84, 86, 88, 90, 92, 94, 96, 98]\n"
     ]
    }
   ],
   "source": [
    "print(my_list)"
   ]
  },
  {
   "cell_type": "markdown",
   "id": "b53a854a",
   "metadata": {},
   "source": [
    "### Import the Pandas, NumPy, Matplotlib and Scikit-learn modules\n",
    "\\# no errors means everything was properly installed and loaded"
   ]
  },
  {
   "cell_type": "code",
   "execution_count": 9,
   "id": "af1c663a",
   "metadata": {},
   "outputs": [],
   "source": [
    "import pandas as pd\n",
    "import numpy as np\n",
    "import matplotlib.pyplot as plt\n",
    "import sklearn"
   ]
  },
  {
   "cell_type": "markdown",
   "id": "03edf80a",
   "metadata": {},
   "source": [
    "## Heart Disease Project\n",
    "this project is about classifying wether or not a patient"
   ]
  },
  {
   "cell_type": "code",
   "execution_count": null,
   "id": "6ffb4bd0",
   "metadata": {},
   "outputs": [],
   "source": []
  }
 ],
 "metadata": {
  "kernelspec": {
   "display_name": "Python 3 (ipykernel)",
   "language": "python",
   "name": "python3"
  },
  "language_info": {
   "codemirror_mode": {
    "name": "ipython",
    "version": 3
   },
   "file_extension": ".py",
   "mimetype": "text/x-python",
   "name": "python",
   "nbconvert_exporter": "python",
   "pygments_lexer": "ipython3",
   "version": "3.9.13"
  }
 },
 "nbformat": 4,
 "nbformat_minor": 5
}
